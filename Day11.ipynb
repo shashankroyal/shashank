{
  "nbformat": 4,
  "nbformat_minor": 0,
  "metadata": {
    "colab": {
      "provenance": [],
      "authorship_tag": "ABX9TyMXy/3eU4xBpFBAWIv3rMji",
      "include_colab_link": true
    },
    "kernelspec": {
      "name": "python3",
      "display_name": "Python 3"
    },
    "language_info": {
      "name": "python"
    }
  },
  "cells": [
    {
      "cell_type": "markdown",
      "metadata": {
        "id": "view-in-github",
        "colab_type": "text"
      },
      "source": [
        "<a href=\"https://colab.research.google.com/github/shashankroyal/shashank/blob/main/Day11.ipynb\" target=\"_parent\"><img src=\"https://colab.research.google.com/assets/colab-badge.svg\" alt=\"Open In Colab\"/></a>"
      ]
    },
    {
      "cell_type": "code",
      "execution_count": 1,
      "metadata": {
        "colab": {
          "base_uri": "https://localhost:8080/"
        },
        "id": "YRLxBl7Q-jSN",
        "outputId": "bfe51532-9c33-4698-811a-160bee230922"
      },
      "outputs": [
        {
          "output_type": "stream",
          "name": "stdout",
          "text": [
            "Page Title: Example Domain\n"
          ]
        }
      ],
      "source": [
        "import requests\n",
        "from bs4 import BeautifulSoup\n",
        "\n",
        "def fetch_page_title(url):\n",
        "    # Fetch the content of the webpage\n",
        "    response = requests.get(url)\n",
        "\n",
        "    # Check if the request was successful\n",
        "    if response.status_code == 200:\n",
        "        # Parse the page content using BeautifulSoup\n",
        "        soup = BeautifulSoup(response.text, 'html.parser')\n",
        "\n",
        "        # Extract the title of the webpage\n",
        "        title = soup.title.string\n",
        "        return title\n",
        "    else:\n",
        "        return f\"Failed to retrieve the webpage. Status code: {response.status_code}\"\n",
        "\n",
        "# Test the function with the given URL\n",
        "url = 'https://example.com'\n",
        "title = fetch_page_title(url)\n",
        "print(\"Page Title:\", title)\n"
      ]
    }
  ]
}