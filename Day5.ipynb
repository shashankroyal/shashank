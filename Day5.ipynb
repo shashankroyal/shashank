{
  "nbformat": 4,
  "nbformat_minor": 0,
  "metadata": {
    "colab": {
      "provenance": [],
      "authorship_tag": "ABX9TyODmDh2HiKrVrj621AdweKq",
      "include_colab_link": true
    },
    "kernelspec": {
      "name": "python3",
      "display_name": "Python 3"
    },
    "language_info": {
      "name": "python"
    }
  },
  "cells": [
    {
      "cell_type": "markdown",
      "metadata": {
        "id": "view-in-github",
        "colab_type": "text"
      },
      "source": [
        "<a href=\"https://colab.research.google.com/github/shashankroyal/shashank/blob/main/Day5.ipynb\" target=\"_parent\"><img src=\"https://colab.research.google.com/assets/colab-badge.svg\" alt=\"Open In Colab\"/></a>"
      ]
    },
    {
      "cell_type": "code",
      "execution_count": 1,
      "metadata": {
        "colab": {
          "base_uri": "https://localhost:8080/"
        },
        "id": "3aq80DdC8HjL",
        "outputId": "813c5de0-4f29-4fdd-967b-512a55757200"
      },
      "outputs": [
        {
          "output_type": "stream",
          "name": "stdout",
          "text": [
            "Enter the text: Shashank\n",
            "Word frequencies:\n",
            "shashank: 1\n"
          ]
        }
      ],
      "source": [
        "# Input text\n",
        "text = input(\"Enter the text: \")\n",
        "\n",
        "# Convert the text to lowercase and split it into words\n",
        "words = text.lower().split()\n",
        "\n",
        "# Create a dictionary to store word frequencies\n",
        "word_count = {}\n",
        "\n",
        "# Calculate the frequency of each word\n",
        "for word in words:\n",
        "    word_count[word] = word_count.get(word, 0) + 1\n",
        "\n",
        "# Print the words and their corresponding counts\n",
        "print(\"Word frequencies:\")\n",
        "for word, count in word_count.items():\n",
        "    print(f\"{word}: {count}\")\n"
      ]
    }
  ]
}